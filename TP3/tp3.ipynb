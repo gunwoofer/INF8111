{
 "cells": [
  {
   "cell_type": "markdown",
   "metadata": {},
   "source": [
    "# TP3 - Market Basket Analysis \n",
    "INF8111 - Fouille de données (Data Mining), Summer 2019 - Prof. Daniel Aloise\n",
    "### Team Components\n",
    "    - Valentin BOUIS\n",
    "    - Benjamin HEINEN\n",
    "    - Wassim GUELLATI\n",
    "\n",
    "**Authors**: Rodrigo Randel & Daniel Aloise"
   ]
  },
  {
   "cell_type": "markdown",
   "metadata": {},
   "source": [
    "## Market Basket Analysis\n",
    "\n",
    "Market Basket Analysis (MBA) is a data mining analytics technique to uncover associations between products or product grouping. By exploring interesting patterns from an extensive collection of data, MBA aims to understand/reveal customer purchase behaviors based upon the theory that if you purchased a certain set of products, then you are more (or less) likely to buy another group of products. In other words, MBA allows retailers to identify the relationship between the items that customers buy, revealing patterns of items often purchased together.\n",
    "\n",
    "A widely approach to explore these patterns is by constructing ***association rules*** such as:\n",
    "- **if** bought *ITEM_1* **then** will buy *ITEM_2* with **confidence** *X*.\n",
    "\n",
    "These associations do not have to be 1-to-1 rules. They can involve many items. For example, a person in a supermarket may add eggs to his/her cart, then an MBA application may suggest that the person will also buy some bread and/or flour: \n",
    "    \n",
    "+ **if** bought *EGGS* **then** will buy [*BREAD* with confidence *0.2*; *FLOUR* with confidence 0.05].\n",
    "\n",
    "However, if the person now decides to add flour to his/her cart, the new association rule could be as showing below, suggesting ingredients to make a cake.\n",
    "\n",
    "+ **if** bought [*EGGS, FLOUR*] **then** will buy [*SUGGAR* with confidence 0.45; BAKING POWDER with confidence 0.12; *BREAD* with confidence *0.03*].\n",
    "\n",
    "\n",
    "There are many real scenarios where MBA plays a central role in data analysis, such as supermarket transactions, online orders or credit card history. Marketers may use these association rules to allocate correlated products close to each other on store shelves or make online suggestions so that customers buy more items. Some questions that an MBA can usually help retailers to answer are:\n",
    "\n",
    "    - What items are often purchased together?\n",
    "    - Given a basket, what items should be suggested?\n",
    "    - How should items be placed together on the shelves?\n",
    "\n",
    "\n",
    "### Objective\n",
    "\n",
    "Your goal in this TP is to develop an MBA algorithm for revealing patterns by creating association rules in a big dataset with more than three millions supermarket transactions. However, mining association rules for large datasets is a very computationally intensive problem, which makes it almost impractical to perform it without a distributed system. Hence, to run your algorithm, you will have access to a distributed cloud computing cluster with hundreds of cores. \n",
    "\n",
    "To this end, a **MapReduce** algorithm will be implemented upon the [Apache Spark](http://spark.apache.org) framework, a fast cluster computing system. In a nutshell, Spark is an open source framework designed with a *scale-out* methodology which makes it a very powerful tool for programmers or application developers to perform a massive volume of computations and data processing in distributed environments. Sparks provides high-level APIs that make it easy to build parallel apps without needing to worry about how your code and data are parallelized/distributed thought the computing cluster. Spark does it all for you.\n",
    " \n",
    "The implementation will follow the Market Basket Analysis algorithm presented by Jongwook Woo and Yuhang Xu (2012). The image **workflow.svg** Illustrates the algorithm's workflow, and is to be used for consultation throughout this TP. The blue boxes are the ones where you must implement a method to perform a map or reduce function, and the grey boxes represent their expected output. **All these operations are explained in details in the following sections.** \n",
    "\n",
    "<!---\n",
    "# ![scale=0.5](workflow.svg \"Algorithm Workflow\")\n",
    "-->\n",
    "\n",
    "## 1. Setting up Spark\n",
    "\n",
    "Spark runs on both Windows and UNIX-like systems (e.g., Linux, Mac OS). It's easy to run locally on one machine — all you need is to have Java installed on your system PATH, or the JAVA_HOME environment variable pointing to a Java installation. It is recommended that you have the **JDK v8** installed in your system. If you haven't, go to [Java's web page](https://www.oracle.com/technetwork/java/javase/downloads/jdk8-downloads-2133151.html) to download and install a Java Virtual Machine. Remember to set the environment variable JAVA_HOME if your installation does not do it automatically for you. \n",
    "\n",
    "The interface between Python and Spark is done through **PySpark**, which can be installed with *pip* as demonstrated below.\n",
    "<!--\n",
    "The first task is to get Spark up and running. \n",
    "1. First, go to http://spark.apache.org/downloads \n",
    "2. Select the newest Spark release and the pre-built package type\n",
    "3. Click for download **spark-2.4.3-bin-hadoop2.7.tgz** and unzip it in any folder of your preference. \n",
    "4. Next, export the following variables to link PYSPARK (Spark's python interface) to your python distribution\n",
    "    - export SPARK_HOME=/Users/rodrigorandel/Downloads/spark-2.4.3-bin-hadoop2.7\n",
    "    - export PYTHONPATH=$PYTHONPATH:$SPARK_HOME/python:$SPARK_HOME/python/lib/py4j-0.10.7-src.zip:$SPARK_HOME/python/lib/pyspark.zip\n",
    "-->"
   ]
  },
  {
   "cell_type": "code",
   "execution_count": 1,
   "metadata": {},
   "outputs": [
    {
     "name": "stdout",
     "output_type": "stream",
     "text": [
      "Collecting pyspark\n",
      "  Downloading https://files.pythonhosted.org/packages/37/98/244399c0daa7894cdf387e7007d5e8b3710a79b67f3fd991c0b0b644822d/pyspark-2.4.3.tar.gz (215.6MB)\n",
      "Collecting py4j==0.10.7 (from pyspark)\n",
      "  Downloading https://files.pythonhosted.org/packages/e3/53/c737818eb9a7dc32a7cd4f1396e787bd94200c3997c72c1dbe028587bd76/py4j-0.10.7-py2.py3-none-any.whl (197kB)\n",
      "Building wheels for collected packages: pyspark\n",
      "  Building wheel for pyspark (setup.py): started\n",
      "  Building wheel for pyspark (setup.py): finished with status 'done'\n",
      "  Stored in directory: C:\\Users\\benja\\AppData\\Local\\pip\\Cache\\wheels\\8d\\20\\f0\\b30e2024226dc112e256930dd2cd4f06d00ab053c86278dcf3\n",
      "Successfully built pyspark\n",
      "Installing collected packages: py4j, pyspark\n",
      "Successfully installed py4j-0.10.7 pyspark-2.4.3\n"
     ]
    }
   ],
   "source": [
    "! pip install pyspark"
   ]
  },
  {
   "cell_type": "markdown",
   "metadata": {},
   "source": [
    "### 1.1 Product Counting Example \n",
    "\n",
    "To test your installation and start to get familiarized with Spark, we will follow an example that counts how many times the products of a toy dataset were purchased.\n",
    "\n",
    "The main entry point to start programming with Spark is the [RDD API](https://spark.apache.org/docs/latest/api/python/pyspark.html#pyspark.RDD), an excellent Spark abstraction to work with the MapReduce framework.  RDD is a collection of elements partitioned across the nodes of the cluster that can operate in parallel. In other words, RDD is how Spark keeps your data ready to perform some function (e.g., a map or reduce function) in parallel. **Do not worry if this still sounds confusing, it will be clear once you start implementing**. However, it is part of this TP to study/consult the [Spark python API](https://spark.apache.org/docs/latest/api/python/) and learn how to use it. Some useful functions that the RDD API offers are:\n",
    "\n",
    "1. **map**: return a new RDD by applying a function to each element of this RDD.\n",
    "2. **flatMap**: return a new RDD by first applying a function to all elements of this RDD, and then flattening the results. **Should be used when each entry will yield more than one mapped element**\n",
    "3. **reduce**: reduces the elements of this RDD using the specified commutative and associative binary operator.\n",
    "4. **reduceByKey**: merge the values for each key using an associative and commutative reduce function\n",
    "5. **groupByKey**: group the values for each key in the RDD into a single sequence\n",
    "6. **collect**: return a list that contains all of the elements in this RDD. **Should not be used when working with a lot of data**\n",
    "7. **sample**: return a sampled subset of this RDD\n",
    "8. **count**: return the number of elements in this RDD.\n",
    "9. **filter**: return a new RDD containing only the elements that satisfy a predicate."
   ]
  },
  {
   "cell_type": "code",
   "execution_count": 1,
   "metadata": {},
   "outputs": [
    {
     "name": "stdout",
     "output_type": "stream",
     "text": [
      "Toy dataset\n",
      "+--------+-----------+\n",
      "|order_id|transaction|\n",
      "+--------+-----------+\n",
      "|       1|      a;b;c|\n",
      "|       2|      a;b;d|\n",
      "|       3|        b;c|\n",
      "|       4|        b;c|\n",
      "+--------+-----------+\n",
      "\n",
      "Toy dataframe as a RDD object (list of Row objects):\n",
      "\t [Row(order_id='1', transaction='a;b;c'), Row(order_id='2', transaction='a;b;d'), Row(order_id='3', transaction='b;c'), Row(order_id='4', transaction='b;c')]\n",
      "\n",
      "Mapped products:\n",
      "\t [('a', 1), ('b', 1), ('c', 1), ('a', 1), ('b', 1), ('d', 1), ('b', 1), ('c', 1), ('b', 1), ('c', 1)]\n",
      "\n",
      "Reduced (merged) products:\n",
      "\t [('a', 2), ('b', 4), ('c', 3), ('d', 1)]\n",
      "\n",
      "Visualizing as a dataframe:\n",
      "+-------+-------------+\n",
      "|product|count_product|\n",
      "+-------+-------------+\n",
      "|      a|            2|\n",
      "|      b|            4|\n",
      "|      c|            3|\n",
      "|      d|            1|\n",
      "+-------+-------------+\n",
      "\n"
     ]
    }
   ],
   "source": [
    "from pyspark.sql import SparkSession\n",
    "\n",
    "def map_to_product(row):\n",
    "    \"\"\"\n",
    "    Map each transaction into a set of KEY-VALUE elements.\n",
    "    The KEY is the word (product) itself and the VALUE is its number of apparitions.\n",
    "    \"\"\"\n",
    "    products = row.transaction.split(';') # split products from the column transaction\n",
    "    for p in products:\n",
    "        yield (p, 1)\n",
    "\n",
    "def reduce_product_by_key(value1, value2):\n",
    "    \"Reduce the mapped objects to unique words by merging (summing ) their values\"\n",
    "    return value1+value2\n",
    "\n",
    "# Initializates a object of SparkSession class, main entry point to Spark's funcionalites\n",
    "spark = SparkSession.builder.getOrCreate()\n",
    "        \n",
    "# Read a toy dataset\n",
    "toy = spark.read.csv('toy.csv', header=True)\n",
    "print(\"Toy dataset\")\n",
    "toy.show()\n",
    "\n",
    "# Obtain a RDD object to call a map function\n",
    "toy_rdd = toy.rdd\n",
    "print(\"Toy dataframe as a RDD object (list of Row objects):\\n\\t\", toy_rdd.collect())\n",
    "\n",
    "# Map function to identify all products\n",
    "toy_rdd = toy_rdd.flatMap(map_to_product)\n",
    "print(\"\\nMapped products:\\n\\t\", toy_rdd.collect())\n",
    "\n",
    "# Reduce function to merge values of elements that share the same KEY\n",
    "toy_rdd = toy_rdd.reduceByKey(reduce_product_by_key)\n",
    "print(\"\\nReduced (merged) products:\\n\\t\", toy_rdd.collect())\n",
    "\n",
    "print(\"\\nVisualizing as a dataframe:\")\n",
    "toy_rdd.toDF([\"product\", \"count_product\"]).show()"
   ]
  },
  {
   "cell_type": "markdown",
   "metadata": {},
   "source": [
    "### 1.2 Working the Spark's Dataframe\n",
    "\n",
    "In the example above, we briefly used a Spark's Dataframe class, but only to obtain an RDD object with ```toy.rdd``` and to print the data as a structured table with the ```show()``` function. However, [Dataframe](https://spark.apache.org/docs/latest/api/python/pyspark.sql.html#) is a big part of the current Spark release and is built upon the RDD API. It is a distributed collection of rows under named columns, the same as a table in a relational database. Spark's Dataframe works similarily as [Pandas'](https://pandas.pydata.org/pandas-docs/stable/reference/api/pandas.DataFrame.html). In fact, we can export (obtain) a Spark's data frame to (from) a pandas' data frame with the function ```toPandas()``` (```spark.createDataFrame```).\n",
    "\n",
    "A central functionality of the data frame is to profit from the [Spark SQL](https://spark.apache.org/docs/latest/sql-programming-guide.html#sql), a module that allows SQL queries over structured data. For example, the same 'product counting example' could have been implemented as a sequence of SQL operations over the data:  "
   ]
  },
  {
   "cell_type": "code",
   "execution_count": 2,
   "metadata": {},
   "outputs": [
    {
     "name": "stdout",
     "output_type": "stream",
     "text": [
      "New column 'products': exploding the transaction's products to a new row\n",
      "+--------+-----------+--------+\n",
      "|order_id|transaction|products|\n",
      "+--------+-----------+--------+\n",
      "|       1|      a;b;c|       a|\n",
      "|       1|      a;b;c|       b|\n",
      "|       1|      a;b;c|       c|\n",
      "|       2|      a;b;d|       a|\n",
      "|       2|      a;b;d|       b|\n",
      "|       2|      a;b;d|       d|\n",
      "|       3|        b;c|       b|\n",
      "|       3|        b;c|       c|\n",
      "|       4|        b;c|       b|\n",
      "|       4|        b;c|       c|\n",
      "+--------+-----------+--------+\n",
      "\n",
      "Couting unique products:\n",
      "+--------+-------------+\n",
      "|products|count_product|\n",
      "+--------+-------------+\n",
      "|       b|            4|\n",
      "|       c|            3|\n",
      "|       a|            2|\n",
      "|       d|            1|\n",
      "+--------+-------------+\n",
      "\n"
     ]
    }
   ],
   "source": [
    "import pyspark.sql.functions as f\n",
    "\n",
    "# Creates a new column, products, with all products appering in each transaction\n",
    "print('New column \\'products\\': exploding the transaction\\'s products to a new row')\n",
    "df_toy = toy.withColumn('products', f.explode(f.split(toy.transaction, ';')))\n",
    "df_toy.show()\n",
    "\n",
    "# Performs a select query and group rows by the product name, aggreagating by counting\n",
    "print('Couting unique products:')\n",
    "df_toy.select(df_toy.products)\\\n",
    "      .groupBy(df_toy.products)\\\n",
    "      .agg(f.count('products').alias('count_product'))\\\n",
    "      .sort('count_product', ascending=False)\\\n",
    "      .show()"
   ]
  },
  {
   "cell_type": "markdown",
   "metadata": {},
   "source": [
    "Also, the same SQL operations performed above could have been done with a traditional SQL language query as showing below:"
   ]
  },
  {
   "cell_type": "code",
   "execution_count": 4,
   "metadata": {},
   "outputs": [
    {
     "name": "stdout",
     "output_type": "stream",
     "text": [
      "+--------+-------------+\n",
      "|products|product_count|\n",
      "+--------+-------------+\n",
      "|       b|            4|\n",
      "|       c|            3|\n",
      "|       a|            2|\n",
      "|       d|            1|\n",
      "+--------+-------------+\n",
      "\n"
     ]
    }
   ],
   "source": [
    "# Creates a relational table TOY in the Spark session\n",
    "df_toy.createOrReplaceTempView(\"TOY\")\n",
    "\n",
    "spark.sql(\"SELECT t.products, COUNT(t.products) AS product_count\"\n",
    "          \" FROM TOY t\"\n",
    "          \" GROUP BY t.products\"\n",
    "          \" ORDER BY product_count DESC\").show()"
   ]
  },
  {
   "cell_type": "markdown",
   "metadata": {},
   "source": [
    "These SQL concepts are being mentioned here because they will be useful to us during the TP, mainly in Section 3, to manipulate the supermarket data, which is structured in data frames. Then, if you are not familiar with SQL, it is recommended that you follow a [tutorial](https://www.w3schools.com/sql/) to understand the basics.\n",
    "\n",
    "## 2. MBA Algorithm \n",
    " The following sections explain how you should develop each step of the MapReduce algorithm for our supermarket application. Figure workflow.png illustrates each step of the algorithm.\n",
    " \n",
    "### 2.1 Map to Patterns (10 points)\n",
    "For a given a set of transactions (i.e., the rows of our toy dataset), each transaction must be **mapped** into a set of *purchase patterns* found within the transaction. Formally, these patterns are subsets of products that represent a group of items bought together. \n",
    "    \n",
    "For the MapReduce framework, each pattern must be created as a *KEY-VALUE* element, where they KEY can take the form of a singleton, a pair or a trio of products that are present in the transaction. More precisely, for each transaction, the mapping function must generate all possible **unique** subsets of size ONE, TWO or THREE.  The VALUE associated with each KEY is the number of times that the KEY appeared in the transaction (if we assume that no product appears more than once in the transaction, this value is always equal to one). \n",
    "\n",
    "Now, implement the  **map_to_patterns** function that receives a transaction (a row from the data frame) and returns the patterns found in the transaction. The mapped elements are a tuple (KEY, VALUE), where KEY is also a tuple of product names. It is crucial to notice that, since each entry (transaction) of the map function will **yield** more than one KEY-VALUE element, a *flatMap* must be invoked for this step.\n",
    "\n",
    "For the toy dataset, the expected output is similar to:\n",
    "\n",
    "<pre style=\"align:center; border:1px solid black;font-size: 9pt; line-height: 1.1; height: auto; width: 18em; padding-left:5px\">\n",
    "<code>\n",
    "+---------------+-----------+\n",
    "|       patterns|occurrences|\n",
    "+---------------+-----------+\n",
    "|         ('a',)|          1|\n",
    "|     ('a', 'b')|          1|\n",
    "|('a', 'b', 'c')|          1|\n",
    "|     ('a', 'c')|          1|\n",
    "|         ('b',)|          1|\n",
    "|     ('b', 'c')|          1|\n",
    "|         ('c',)|          1|\n",
    "|         ('a',)|          1|\n",
    "|     ('a', 'b')|          1|\n",
    "|('a', 'b', 'd')|          1|\n",
    "|     ('a', 'd')|          1|\n",
    "|         ('b',)|          1|\n",
    "|     ('b', 'd')|          1|\n",
    "|         ('d',)|          1|\n",
    "|         ('b',)|          1|\n",
    "|     ('b', 'c')|          1|\n",
    "|         ('c',)|          1|\n",
    "|         ('b',)|          1|\n",
    "|     ('b', 'c')|          1|\n",
    "|         ('c',)|          1|\n",
    "+---------------+-----------+\n",
    "</code>\n",
    "</pre>"
   ]
  },
  {
   "cell_type": "code",
   "execution_count": 51,
   "metadata": {},
   "outputs": [
    {
     "name": "stdout",
     "output_type": "stream",
     "text": [
      "+---------------+-----------+\n",
      "|       patterns|occurrences|\n",
      "+---------------+-----------+\n",
      "|         ('a',)|          1|\n",
      "|         ('b',)|          1|\n",
      "|         ('c',)|          1|\n",
      "|     ('a', 'b')|          1|\n",
      "|     ('a', 'c')|          1|\n",
      "|     ('b', 'c')|          1|\n",
      "|('a', 'b', 'c')|          1|\n",
      "|         ('a',)|          1|\n",
      "|         ('b',)|          1|\n",
      "|         ('d',)|          1|\n",
      "|     ('a', 'b')|          1|\n",
      "|     ('a', 'd')|          1|\n",
      "|     ('b', 'd')|          1|\n",
      "|('a', 'b', 'd')|          1|\n",
      "|         ('b',)|          1|\n",
      "|         ('c',)|          1|\n",
      "|     ('b', 'c')|          1|\n",
      "|         ('b',)|          1|\n",
      "|         ('c',)|          1|\n",
      "|     ('b', 'c')|          1|\n",
      "+---------------+-----------+\n",
      "\n"
     ]
    }
   ],
   "source": [
    "from itertools import combinations\n",
    "\n",
    "\n",
    "def format_tuples(pattern):\n",
    "    \"\"\"\n",
    "    Used for visualizition.\n",
    "    Transforms tuples to a string since Dataframe does not support column of tuples with different sizes\n",
    "    (a,b,c) -> '(a,b,c)'\n",
    "    \"\"\"\n",
    "    return (str(pattern[0]), str(pattern[1]))\n",
    "\n",
    "def map_to_patterns(row):\n",
    "    \"\"\"\n",
    "    TODO\n",
    "    \"\"\"\n",
    "    products = row.transaction.split(';')\n",
    "    patterns = []\n",
    "    max = len(products)+1 if len(products) <= 3 else 3\n",
    "    for lenght in range(1, max):\n",
    "        patterns.extend(list(combinations(products, lenght)))\n",
    "    # Ici on assume que les produits apparaissent 1 seule fois dans une transaction (comme dans l'énnoncé)\n",
    "    for i in range(0, len(patterns)):\n",
    "        yield (patterns[i], 1)\n",
    "#     return patterns\n",
    "\n",
    "# Test sur une ligne\n",
    "# ligne1 = toy.first()\n",
    "# patterns = map_to_patterns(ligne1)\n",
    "# print(patterns)\n",
    "\n",
    "toy_rdd = toy.rdd\n",
    "patterns_rdd = toy_rdd.flatMap(map_to_patterns)\n",
    "\n",
    "# Output as dataframe\n",
    "patterns_rdd.map(format_tuples).toDF(['patterns', 'occurrences']).show()"
   ]
  },
  {
   "cell_type": "markdown",
   "metadata": {},
   "source": [
    "### 2.2 Reduce patterns (5 points)\n",
    "Once different CPUs processed the transactions, a **reduce** function must take place to combine identical KEYS (the subset of products) and compute the total number of its occurrences in the entire dataset. In other words, this reduce procedure must sum the *VALUE* of each identical KEY.\n",
    "\n",
    "Create a **reduce_patterns** function below that must sum the VALUE of each pattern.\n",
    "For the toy dataset, the expected output is:\n",
    "<pre style=\"align:center; border:1px solid black;font-size: 9pt; line-height: 1.1; height: auto; width: 24em; padding-left:5px\">\n",
    "<code>\n",
    "+---------------+--------------------+\n",
    "|       patterns|combined_occurrences|\n",
    "+---------------+--------------------+\n",
    "|         ('a',)|                   2|\n",
    "|     ('a', 'b')|                   2|\n",
    "|('a', 'b', 'c')|                   1|\n",
    "|     ('a', 'c')|                   1|\n",
    "|         ('b',)|                   4|\n",
    "|     ('b', 'c')|                   3|\n",
    "|         ('c',)|                   3|\n",
    "|('a', 'b', 'd')|                   1|\n",
    "|     ('a', 'd')|                   1|\n",
    "|     ('b', 'd')|                   1|\n",
    "|         ('d',)|                   1|\n",
    "+---------------+--------------------+\n",
    "</code>\n",
    "</pre>\n"
   ]
  },
  {
   "cell_type": "code",
   "execution_count": 6,
   "metadata": {},
   "outputs": [
    {
     "name": "stdout",
     "output_type": "stream",
     "text": [
      "+---------------+--------------------+\n",
      "|       patterns|combined_occurrences|\n",
      "+---------------+--------------------+\n",
      "|         ('a',)|                   2|\n",
      "|         ('b',)|                   4|\n",
      "|         ('c',)|                   3|\n",
      "|     ('a', 'b')|                   2|\n",
      "|     ('a', 'c')|                   1|\n",
      "|     ('b', 'c')|                   3|\n",
      "|('a', 'b', 'c')|                   1|\n",
      "|         ('d',)|                   1|\n",
      "|     ('a', 'd')|                   1|\n",
      "|     ('b', 'd')|                   1|\n",
      "|('a', 'b', 'd')|                   1|\n",
      "+---------------+--------------------+\n",
      "\n"
     ]
    }
   ],
   "source": [
    "\"\"\"\n",
    "TODO\n",
    "\"\"\"\n",
    "def reduce_patterns(value1, value2):\n",
    "    # copié de 1.1\n",
    "    return value1+value2\n",
    "    \n",
    "combined_patterns_rdd = patterns_rdd.reduceByKey(reduce_patterns)\n",
    "\n",
    "# Output as dataframe\n",
    "combined_patterns_rdd.map(format_tuples).toDF(['patterns', 'combined_occurrences']).show()"
   ]
  },
  {
   "cell_type": "markdown",
   "metadata": {},
   "source": [
    "### 2.3 Map to subpatterns (15 points)\n",
    "Next, another **map** function should be applied to generate subpatterns. Once again, the subpatterns are KEY-VALUE elements, where the KEY is a subset of products as well. However, creating the subpattern's KEY is a different procedure. This time, the idea is to break down the list of products of each pattern (pattern KEY), remove one product at a time, and yield the resulting list as the new subpattern KEY. \n",
    "\n",
    "For example, for a given pattern $P$ with three products, $p_1, p_2 $ and $p_3$, three new subpatterns KEYs are going to be created: (i) remove $p_1$ and yield ($p_2, p_3$); (ii) remove $p_2$ and yield ($p_1,p_3$); and (iii) remove $p_3$ and yield ($p_1,p_2$). \n",
    "\n",
    "Additionally, the subpattern's VALUE structure will also be different. Instead of just single integer value as we had in the patterns, this time a *tuple* should be created for the subpattern VALUE. This tuple contains the product that was removed when yielding the KEY and the number of times the pattern appeared. For the example above, the values should be ($p_1,v$), ($p_2,v$) and ($p_3,v$), respectively, where $v$ is the VALUE of the pattern. \n",
    "\n",
    "The idea behind subpatterns is to create **rules** such as: when the products of KEY were bought, the item present in the VALUE was also bought *v* times. Furthermore, each pattern should also yield a subpattern where the KEY is the same list of products of the pattern, but the VALUE is a tuple with a null product (None) and the number of times the pattern appeared. This element will be useful to keep track of how many times such a pattern was found and later will be used to compute the confidence value when generating the association rules. \n",
    "\n",
    "Now, implement the  **map_to_subpatterns** function that receives a pattern and yields all found subpatterns. Once again, each entry (pattern) will generate more than one KEY-VALUE element, then a flatMap function must be called.\n",
    "\n",
    "For the toy dataset, the expected output is:\n",
    "\n",
    "<pre style=\"align:center; border:1px solid black;font-size: 9pt; line-height: 1.1; height: auto; width: 17em; padding-left:5px\">\n",
    "<code>\n",
    "+---------------+---------+\n",
    "|    subpatterns|    rules|\n",
    "+---------------+---------+\n",
    "|         ('a',)|(None, 2)|\n",
    "|     ('a', 'b')|(None, 2)|\n",
    "|         ('b',)| ('a', 2)|\n",
    "|         ('a',)| ('b', 2)|\n",
    "|('a', 'b', 'c')|(None, 1)|\n",
    "|     ('b', 'c')| ('a', 1)|\n",
    "|     ('a', 'c')| ('b', 1)|\n",
    "|     ('a', 'b')| ('c', 1)|\n",
    "|     ('a', 'c')|(None, 1)|\n",
    "|         ('c',)| ('a', 1)|\n",
    "|         ('a',)| ('c', 1)|\n",
    "|         ('b',)|(None, 4)|\n",
    "|     ('b', 'c')|(None, 3)|\n",
    "|         ('c',)| ('b', 3)|\n",
    "|         ('b',)| ('c', 3)|\n",
    "|         ('c',)|(None, 3)|\n",
    "|('a', 'b', 'd')|(None, 1)|\n",
    "|     ('b', 'd')| ('a', 1)|\n",
    "|     ('a', 'd')| ('b', 1)|\n",
    "|     ('a', 'b')| ('d', 1)|\n",
    "|     ('a', 'd')|(None, 1)|\n",
    "|         ('d',)| ('a', 1)|\n",
    "|         ('a',)| ('d', 1)|\n",
    "|     ('b', 'd')|(None, 1)|\n",
    "|         ('d',)| ('b', 1)|\n",
    "|         ('b',)| ('d', 1)|\n",
    "|         ('d',)|(None, 1)|\n",
    "+---------------+---------+\n",
    "</code>\n",
    "</pre>"
   ]
  },
  {
   "cell_type": "code",
   "execution_count": 7,
   "metadata": {},
   "outputs": [
    {
     "name": "stdout",
     "output_type": "stream",
     "text": [
      "+---------------+---------+\n",
      "|    subpatterns|    rules|\n",
      "+---------------+---------+\n",
      "|         ('a',)|(None, 2)|\n",
      "|         ('b',)|(None, 4)|\n",
      "|         ('c',)|(None, 3)|\n",
      "|     ('a', 'b')|(None, 2)|\n",
      "|         ('b',)| ('a', 2)|\n",
      "|         ('a',)| ('b', 2)|\n",
      "|     ('a', 'c')|(None, 1)|\n",
      "|         ('c',)| ('a', 1)|\n",
      "|         ('a',)| ('c', 1)|\n",
      "|     ('b', 'c')|(None, 3)|\n",
      "|         ('c',)| ('b', 3)|\n",
      "|         ('b',)| ('c', 3)|\n",
      "|('a', 'b', 'c')|(None, 1)|\n",
      "|     ('b', 'c')| ('a', 1)|\n",
      "|     ('a', 'c')| ('b', 1)|\n",
      "|     ('a', 'b')| ('c', 1)|\n",
      "|         ('d',)|(None, 1)|\n",
      "|     ('a', 'd')|(None, 1)|\n",
      "|         ('d',)| ('a', 1)|\n",
      "|         ('a',)| ('d', 1)|\n",
      "|     ('b', 'd')|(None, 1)|\n",
      "|         ('d',)| ('b', 1)|\n",
      "|         ('b',)| ('d', 1)|\n",
      "|('a', 'b', 'd')|(None, 1)|\n",
      "|     ('b', 'd')| ('a', 1)|\n",
      "|     ('a', 'd')| ('b', 1)|\n",
      "|     ('a', 'b')| ('d', 1)|\n",
      "+---------------+---------+\n",
      "\n"
     ]
    }
   ],
   "source": [
    "from copy import deepcopy\n",
    "def map_to_subpatterns(pattern):\n",
    "    \"\"\"\n",
    "    TODO\n",
    "    \"\"\"\n",
    "    yield((pattern[0], (None, pattern[1])))\n",
    "    if(len(pattern[0]) == 1):\n",
    "        return\n",
    "    for elem in pattern[0]:\n",
    "        copy = deepcopy(pattern[0])\n",
    "        # On convertie en list pour supprimer l'element puis on reconvertie en tuple\n",
    "        copy = list(copy)\n",
    "        copy.remove(elem)\n",
    "        copy = tuple(copy)\n",
    "        yield((copy, (elem, pattern[1])))\n",
    "    \n",
    "\n",
    "\n",
    "\n",
    "\n",
    "subpatterns_rdd = combined_patterns_rdd.flatMap(map_to_subpatterns)\n",
    "\n",
    "\n",
    "# Output as dataframe\n",
    "subpatterns_rdd.map(format_tuples).toDF(['subpatterns', 'rules']).show(100)"
   ]
  },
  {
   "cell_type": "markdown",
   "metadata": {},
   "source": [
    "### 2.4 Reduce Subpatterns (5 points)\n",
    "Once again, a **reduce** function will be required to group all the subpatterns by their KEY. The objective of this reducing procedure is to create a list with all the **rules** that appeared by a KEY. Hence, the expected resulting of the reduce function is also a KEY-VALUE element, where the KEY is the subpattern's KEY, and the VALUE is a group containing all the VALUEs of the subpatterns that share the same KEY.\n",
    "\n",
    "For the toy dataset, the expected output is:\n",
    "\n",
    "<pre style=\"align:center; border:1px solid black;font-size: 9pt; line-height: 1.1; height: auto; width: 32em; padding-left:5px\">\n",
    "<code>\n",
    "+-----------+--------------------------------------+\n",
    "|subpatterns|combined_rules                        |\n",
    "+-----------+--------------------------------------+\n",
    "|(a)        |((None, 2),('b', 2),('c', 1),('d', 1))|\n",
    "|(a,b)      |((None, 2),('c', 1),('d', 1))         |\n",
    "|(b)        |(('a', 2),(None, 4),('c', 3),('d', 1))|\n",
    "|(a,b,c)    |((None, 1))                           |\n",
    "|(b,c)      |(('a', 1),(None, 3))                  |\n",
    "|(a,c)      |(('b', 1),(None, 1))                  |\n",
    "|(c)        |(('a', 1),('b', 3),(None, 3))         |\n",
    "|(a,b,d)    |((None, 1))                           |\n",
    "|(b,d)      |(('a', 1),(None, 1))                  |\n",
    "|(a,d)      |(('b', 1),(None, 1))                  |\n",
    "|(d)        |(('a', 1),('b', 1),(None, 1))         |\n",
    "+-----------+--------------------------------------+\n",
    "</code>\n",
    "</pre>\n"
   ]
  },
  {
   "cell_type": "code",
   "execution_count": 8,
   "metadata": {},
   "outputs": [
    {
     "name": "stdout",
     "output_type": "stream",
     "text": [
      "+---------------+-----------------------------------------+\n",
      "|subpatterns    |combined_rules                           |\n",
      "+---------------+-----------------------------------------+\n",
      "|('a',)         |((None, 2), ('b', 2), ('c', 1), ('d', 1))|\n",
      "|('b',)         |((None, 4), ('a', 2), ('c', 3), ('d', 1))|\n",
      "|('c',)         |((None, 3), ('a', 1), ('b', 3))          |\n",
      "|('a', 'b')     |((None, 2), ('c', 1), ('d', 1))          |\n",
      "|('a', 'c')     |((None, 1), ('b', 1))                    |\n",
      "|('b', 'c')     |((None, 3), ('a', 1))                    |\n",
      "|('a', 'b', 'c')|((None, 1),)                             |\n",
      "|('d',)         |((None, 1), ('a', 1), ('b', 1))          |\n",
      "|('a', 'd')     |((None, 1), ('b', 1))                    |\n",
      "|('b', 'd')     |((None, 1), ('a', 1))                    |\n",
      "|('a', 'b', 'd')|((None, 1),)                             |\n",
      "+---------------+-----------------------------------------+\n",
      "\n"
     ]
    }
   ],
   "source": [
    "def reduce(accum, n):\n",
    "    accum = (accum,) if (type(accum[0]) is not tuple) else accum \n",
    "    return accum + (n,)\n",
    "    \n",
    "# Unique keys that dont go threw the reduce function must transform their values to a tuple of tuple\n",
    "def unique2tuple(x):\n",
    "    return (x,) if (type(x[0]) is not tuple) else x\n",
    "    \n",
    "combined_rules = subpatterns_rdd.reduceByKey(reduce)\n",
    "combined_rules = combined_rules.mapValues(unique2tuple)\n",
    "\n",
    "\n",
    "# Output as dataframe\n",
    "combined_rules.map(format_tuples).toDF(['subpatterns', 'combined_rules']).show(truncate=False)"
   ]
  },
  {
   "cell_type": "markdown",
   "metadata": {},
   "source": [
    "# 2.5. Map to Association Rules (15 points)\n",
    "Finally, the last step of the algorithm is to create the association rules to perform the market basket analysis. The goal of this map function is to calculate the **confidence** level of buying a product, knowing that there is already a set of products in the basket. Thus, the KEY of the subpattern is the set of products placed in the basket and, for each product present in the list of rules, i.e., in the VALUE, the confidence can be calculated as:\n",
    "\n",
    "\\begin{align*}\n",
    "\\frac{\\text{number of times the product was bought together with KEY }}{\\text{number of times the KEY appeared}}\n",
    "\\end{align*}\n",
    "\n",
    "For the example given in the Figure workflow, *coffee* was bought 20 times and, in 17 of them, *milk* was bought together. Then, the confidence level of buying *milk* knowing that *coffee* is in the basket is $\\frac{17}{20} = 0.85$, which means that in 85% of the times the coffee was bought, milk was purchased as well.\n",
    "\n",
    "Implement the **map_to_assoc_rules** function that calculates the confidence level for each subpattern.\n",
    "\n",
    "For the toy dataset, the expected output is:\n",
    "<pre style=\"align:center; border:1px solid black;font-size: 9pt; line-height: 1.1; height: auto; width: 35em; padding-left:5px\">\n",
    "<code>\n",
    "+---------------+---------------------------------------+\n",
    "|patterns       |association_rules                      |\n",
    "+---------------+---------------------------------------+\n",
    "|('a',)         |[('b', 1.0), ('c', 0.5), ('d', 0.5)]   |\n",
    "|('a', 'b')     |[('c', 0.5), ('d', 0.5)]               |\n",
    "|('b',)         |[('a', 0.5), ('c', 0.75), ('d', 0.25)] |\n",
    "|('a', 'b', 'c')|[]                                     |\n",
    "|('b', 'c')     |[('a', 0.3333333333333333)]            |\n",
    "|('a', 'c')     |[('b', 1.0)]                           |\n",
    "|('c',)         |[('a', 0.3333333333333333), ('b', 1.0)]|\n",
    "|('a', 'b', 'd')|[]                                     |\n",
    "|('b', 'd')     |[('a', 1.0)]                           |\n",
    "|('a', 'd')     |[('b', 1.0)]                           |\n",
    "|('d',)         |[('a', 1.0), ('b', 1.0)]               |\n",
    "+---------------+---------------------------------------+\n",
    "</code>\n",
    "</pre>"
   ]
  },
  {
   "cell_type": "code",
   "execution_count": 9,
   "metadata": {},
   "outputs": [
    {
     "name": "stdout",
     "output_type": "stream",
     "text": [
      "+---------------+---------------------------------------+\n",
      "|patterns       |association_rules                      |\n",
      "+---------------+---------------------------------------+\n",
      "|('a',)         |[('b', 1.0), ('c', 0.5), ('d', 0.5)]   |\n",
      "|('b',)         |[('a', 0.5), ('c', 0.75), ('d', 0.25)] |\n",
      "|('c',)         |[('a', 0.3333333333333333), ('b', 1.0)]|\n",
      "|('a', 'b')     |[('c', 0.5), ('d', 0.5)]               |\n",
      "|('a', 'c')     |[('b', 1.0)]                           |\n",
      "|('b', 'c')     |[('a', 0.3333333333333333)]            |\n",
      "|('a', 'b', 'c')|[]                                     |\n",
      "|('d',)         |[('a', 1.0), ('b', 1.0)]               |\n",
      "|('a', 'd')     |[('b', 1.0)]                           |\n",
      "|('b', 'd')     |[('a', 1.0)]                           |\n",
      "|('a', 'b', 'd')|[]                                     |\n",
      "+---------------+---------------------------------------+\n",
      "\n"
     ]
    }
   ],
   "source": [
    "def map_to_assoc_rules(rule):\n",
    "    \"\"\"\n",
    "    TODO\n",
    "    \"\"\"\n",
    "    key = rule[0]\n",
    "    value = rule[1]\n",
    "    tab = []\n",
    "    for i in range(1, len(value)):\n",
    "        tab.append((value[i][0], value[i][1]/value[0][1]))\n",
    "    yield (key, tab)\n",
    "\n",
    "assoc_rules = combined_rules.flatMap(map_to_assoc_rules)\n",
    "\n",
    "# Output as dataframe\n",
    "assoc_rules.map(format_tuples).toDF(['patterns', 'association_rules']).show(truncate=False)"
   ]
  },
  {
   "cell_type": "markdown",
   "metadata": {},
   "source": [
    "## 3. Instacart dataset\n",
    "\n",
    "With your MBA algorithm ready to be used, now it is time to work on the real dataset. For this part of the TP, download the [instacart](https://www.instacart.com/datasets/grocery-shopping-2017) dataset and read its [description](https://gist.github.com/jeremystan/c3b39d947d9b88b3ccff3147dbcf6c6b) to understand how the dataset is structured. \n",
    "\n",
    "Before applying the developed algorithm on the instacart dataset, you must first filter the transactions to be in the same format defined by your algorithm (one transaction per row). To manipulate the data, we can use Spark's data frame and the SQL module presented in Section 1.\n",
    "\n",
    "The following code cell uses the Spark SQL module to read the orders from the ``order_products__train.csv`` and the detailed information from ``orders.csv`` and ``products.csv`` to construct a data frame that contains a list of all products ever purchased by each user."
   ]
  },
  {
   "cell_type": "code",
   "execution_count": 10,
   "metadata": {},
   "outputs": [
    {
     "name": "stdout",
     "output_type": "stream",
     "text": [
      "order_products__train.csv\n",
      "+--------+----------+-----------------+---------+\n",
      "|order_id|product_id|add_to_cart_order|reordered|\n",
      "+--------+----------+-----------------+---------+\n",
      "|       1|     49302|                1|        1|\n",
      "|       1|     11109|                2|        1|\n",
      "|       1|     10246|                3|        0|\n",
      "|       1|     49683|                4|        0|\n",
      "|       1|     43633|                5|        1|\n",
      "+--------+----------+-----------------+---------+\n",
      "only showing top 5 rows\n",
      "\n",
      "orders.csv\n",
      "+--------+-------+--------+------------+---------+-----------------+----------------------+\n",
      "|order_id|user_id|eval_set|order_number|order_dow|order_hour_of_day|days_since_prior_order|\n",
      "+--------+-------+--------+------------+---------+-----------------+----------------------+\n",
      "| 2539329|      1|   prior|           1|        2|                8|                  null|\n",
      "| 2398795|      1|   prior|           2|        3|                7|                  15.0|\n",
      "|  473747|      1|   prior|           3|        3|               12|                  21.0|\n",
      "| 2254736|      1|   prior|           4|        4|                7|                  29.0|\n",
      "|  431534|      1|   prior|           5|        4|               15|                  28.0|\n",
      "+--------+-------+--------+------------+---------+-----------------+----------------------+\n",
      "only showing top 5 rows\n",
      "\n",
      "products.csv\n",
      "+----------+--------------------+--------+-------------+\n",
      "|product_id|        product_name|aisle_id|department_id|\n",
      "+----------+--------------------+--------+-------------+\n",
      "|         1|Chocolate Sandwic...|      61|           19|\n",
      "|         2|    All-Seasons Salt|     104|           13|\n",
      "|         3|Robust Golden Uns...|      94|            7|\n",
      "|         4|Smart Ones Classi...|      38|            1|\n",
      "|         5|Green Chile Anyti...|       5|           13|\n",
      "+----------+--------------------+--------+-------------+\n",
      "only showing top 5 rows\n",
      "\n",
      "+-------+--------------------------------------------------------------------------------+\n",
      "|user_id|                                                                        products|\n",
      "+-------+--------------------------------------------------------------------------------+\n",
      "|      1|[Soda, Organic String Cheese, 0% Greek Strained Yogurt, XL Pick-A-Size Paper ...|\n",
      "|      2|[Organic Roasted Turkey Breast, Gluten Free Whole Grain Bread, Plantain Chips...|\n",
      "|      5|[Organic Raw Agave Nectar, Organic Large Extra Fancy Fuji Apple, Sharp Chedda...|\n",
      "|      7|[Panama Peach Antioxidant Infusion, Antioxidant Infusions Beverage Malawi Man...|\n",
      "|      8|[Shallot, Organic SprouTofu Silken Tofu, Nutritional Yeast Seasoning, Organic...|\n",
      "+-------+--------------------------------------------------------------------------------+\n",
      "only showing top 5 rows\n",
      "\n"
     ]
    }
   ],
   "source": [
    "df_order_prod = spark.read.csv('instacart/order_products__train.csv', header=True, sep=',', inferSchema=True)\n",
    "print('order_products__train.csv')\n",
    "df_order_prod.show(5)\n",
    "\n",
    "df_orders = spark.read.csv('instacart/orders.csv', header=True, sep=',', inferSchema=True)\n",
    "print('orders.csv')\n",
    "df_orders.show(5)\n",
    "\n",
    "df_products = spark.read.csv('instacart/products.csv', header=True, sep=',', inferSchema=True)\n",
    "print('products.csv')\n",
    "df_products.show(5)\n",
    "\n",
    "\n",
    "\"\"\"\n",
    "List of products ever purchased by each user\n",
    "\"\"\"\n",
    "# USING SQL\n",
    "df_order_prod.createOrReplaceTempView(\"order_prod\") # creates table 'order_prod'\n",
    "df_orders.createOrReplaceTempView(\"orders\") # creates table 'orders'\n",
    "df_products.createOrReplaceTempView(\"products\") # creates table 'products'\n",
    "spark.sql('SELECT o.user_id, COLLECT_LIST(p.product_name) AS products' \n",
    "               ' FROM orders o '\n",
    "               ' INNER JOIN order_prod op ON op.order_id = o.order_id'\n",
    "               ' INNER JOIN products p    ON op.product_id = p.product_id'\n",
    "               ' GROUP BY user_id ORDER BY o.user_id').show(5, truncate=80)\n",
    "\n",
    "\n",
    "# USING DATAFRAME OPERATIONS\n",
    "# df_orders.join(df_order_prod, df_order_prod.order_id == df_orders.order_id, 'inner')\\\n",
    "# .join(df_products, df_products.product_id == df_order_prod.product_id, 'inner')\\\n",
    "# .groupBy(df_orders.user_id).agg(f.collect_list(df_products.product_name).alias('products'))\\\n",
    "# .orderBy(df_orders.user_id).show(5, truncate=80)"
   ]
  },
  {
   "cell_type": "markdown",
   "metadata": {},
   "source": [
    "### 3.1 Business Insights (15 points) \n",
    "\n",
    "Now, you are the data scientist. Considering only the orders from ``order_products__train.csv``, use of Spark SQL module, performing with SQL or data frame, to answer the following questions:\n",
    "\n",
    "1. What are the top 10 products which have the highest probability of being reordered? \n",
    "2. What are the busiest shopping hours for each department?\n",
    "    - Hint: plot a time series for each department\n",
    "4. What is the size of the orders (basket size)? \n",
    "    - Hint: plot the basket size distribution "
   ]
  },
  {
   "cell_type": "code",
   "execution_count": 10,
   "metadata": {},
   "outputs": [
    {
     "name": "stdout",
     "output_type": "stream",
     "text": [
      "top 10 products which have the highest probability of being reordered\n",
      "+----------+---------------+-------------+\n",
      "|product_id|proba_reordered|sum_reordered|\n",
      "+----------+---------------+-------------+\n",
      "|      8558|            1.0|           12|\n",
      "|     39507|            1.0|           12|\n",
      "|     15952|            1.0|           12|\n",
      "|     34631|            1.0|           10|\n",
      "|     37414|            1.0|           10|\n",
      "|     25115|            1.0|           10|\n",
      "|     40183|            1.0|           10|\n",
      "|     20320|            1.0|           10|\n",
      "|     15293|            1.0|           10|\n",
      "|      1465|            1.0|           10|\n",
      "+----------+---------------+-------------+\n",
      "\n"
     ]
    }
   ],
   "source": [
    "print('top 10 products which have the highest probability of being reordered')\n",
    "spark.sql('SELECT product_id, AVG(reordered) AS proba_reordered, SUM(reordered) AS sum_reordered FROM order_prod GROUP BY product_id ORDER BY proba_reordered DESC, sum_reordered DESC LIMIT 10').show(10, truncate=80)\n"
   ]
  },
  {
   "cell_type": "code",
   "execution_count": 13,
   "metadata": {},
   "outputs": [
    {
     "name": "stdout",
     "output_type": "stream",
     "text": [
      " the busiest shopping hours for each department\n"
     ]
    },
    {
     "data": {
      "image/png": "[encoded data removed]",
      "text/plain": [
       "<Figure size 432x288 with 1 Axes>"
      ]
     },
     "metadata": {
      "needs_background": "light"
     },
     "output_type": "display_data"
    },
    {
     "data": {
      "image/png": "[encoded data removed]",
      "text/plain": [
       "<Figure size 432x288 with 1 Axes>"
      ]
     },
     "metadata": {
      "needs_background": "light"
     },
     "output_type": "display_data"
    },
    {
     "data": {
      "image/png": "[encoded data removed]",
      "text/plain": [
       "<Figure size 432x288 with 1 Axes>"
      ]
     },
     "metadata": {
      "needs_background": "light"
     },
     "output_type": "display_data"
    },
    {
     "data": {
      "image/png": "[encoded data removed]",
      "text/plain": [
       "<Figure size 432x288 with 1 Axes>"
      ]
     },
     "metadata": {
      "needs_background": "light"
     },
     "output_type": "display_data"
    },
    {
     "data": {
      "image/png": "[encoded data removed]",
      "text/plain": [
       "<Figure size 432x288 with 1 Axes>"
      ]
     },
     "metadata": {
      "needs_background": "light"
     },
     "output_type": "display_data"
    },
    {
     "data": {
      "image/png": "[encoded data removed]",
      "text/plain": [
       "<Figure size 432x288 with 1 Axes>"
      ]
     },
     "metadata": {
      "needs_background": "light"
     },
     "output_type": "display_data"
    },
    {
     "data": {
      "image/png": "[encoded data removed]",
      "text/plain": [
       "<Figure size 432x288 with 1 Axes>"
      ]
     },
     "metadata": {
      "needs_background": "light"
     },
     "output_type": "display_data"
    },
    {
     "data": {
      "image/png": "[encoded data removed]",
      "text/plain": [
       "<Figure size 432x288 with 1 Axes>"
      ]
     },
     "metadata": {
      "needs_background": "light"
     },
     "output_type": "display_data"
    },
    {
     "data": {
      "image/png": "[encoded data removed]",
      "text/plain": [
       "<Figure size 432x288 with 1 Axes>"
      ]
     },
     "metadata": {
      "needs_background": "light"
     },
     "output_type": "display_data"
    },
    {
     "data": {
      "image/png": "[encoded data removed]",
      "text/plain": [
       "<Figure size 432x288 with 1 Axes>"
      ]
     },
     "metadata": {
      "needs_background": "light"
     },
     "output_type": "display_data"
    },
    {
     "data": {
      "image/png": "[encoded data removed]",
      "text/plain": [
       "<Figure size 432x288 with 1 Axes>"
      ]
     },
     "metadata": {
      "needs_background": "light"
     },
     "output_type": "display_data"
    },
    {
     "data": {
      "image/png": "[encoded data removed]",
      "text/plain": [
       "<Figure size 432x288 with 1 Axes>"
      ]
     },
     "metadata": {
      "needs_background": "light"
     },
     "output_type": "display_data"
    },
    {
     "data": {
      "image/png": "[encoded data removed]",
      "text/plain": [
       "<Figure size 432x288 with 1 Axes>"
      ]
     },
     "metadata": {
      "needs_background": "light"
     },
     "output_type": "display_data"
    },
    {
     "data": {
      "image/png": "[encoded data removed]",
      "text/plain": [
       "<Figure size 432x288 with 1 Axes>"
      ]
     },
     "metadata": {
      "needs_background": "light"
     },
     "output_type": "display_data"
    },
    {
     "data": {
      "image/png": "[encoded data removed]",
      "text/plain": [
       "<Figure size 432x288 with 1 Axes>"
      ]
     },
     "metadata": {
      "needs_background": "light"
     },
     "output_type": "display_data"
    },
    {
     "data": {
      "image/png": "[encoded data removed]",
      "text/plain": [
       "<Figure size 432x288 with 1 Axes>"
      ]
     },
     "metadata": {
      "needs_background": "light"
     },
     "output_type": "display_data"
    },
    {
     "data": {
      "image/png": "[encoded data removed]",
      "text/plain": [
       "<Figure size 432x288 with 1 Axes>"
      ]
     },
     "metadata": {
      "needs_background": "light"
     },
     "output_type": "display_data"
    },
    {
     "data": {
      "image/png": "[encoded data removed]",
      "text/plain": [
       "<Figure size 432x288 with 1 Axes>"
      ]
     },
     "metadata": {
      "needs_background": "light"
     },
     "output_type": "display_data"
    },
    {
     "data": {
      "image/png": "[encoded data removed]",
      "text/plain": [
       "<Figure size 432x288 with 1 Axes>"
      ]
     },
     "metadata": {
      "needs_background": "light"
     },
     "output_type": "display_data"
    },
    {
     "data": {
      "image/png": "[encoded data removed]",
      "text/plain": [
       "<Figure size 432x288 with 1 Axes>"
      ]
     },
     "metadata": {
      "needs_background": "light"
     },
     "output_type": "display_data"
    },
    {
     "data": {
      "image/png": "[encoded data removed]",
      "text/plain": [
       "<Figure size 432x288 with 1 Axes>"
      ]
     },
     "metadata": {
      "needs_background": "light"
     },
     "output_type": "display_data"
    },
    {
     "name": "stdout",
     "output_type": "stream",
     "text": [
      "+-------------+-----------------+-------------+\n",
      "|department_id|order_hour_of_day|nb_apparition|\n",
      "+-------------+-----------------+-------------+\n",
      "|            1|               14|         8718|\n",
      "|            2|               14|          188|\n",
      "|            3|               14|         4260|\n",
      "|            4|               14|        35391|\n",
      "|            5|               15|          620|\n",
      "|            6|               13|         1086|\n",
      "|            7|               10|         9790|\n",
      "|            8|               11|          378|\n",
      "|            9|               14|         3381|\n",
      "|           10|               14|          133|\n",
      "|           11|               14|         1801|\n",
      "|           12|               14|         2670|\n",
      "|           13|               14|         7127|\n",
      "|           14|               14|         2533|\n",
      "|           15|               11|         4094|\n",
      "|           15|               13|         4094|\n",
      "|           16|               14|        18599|\n",
      "|           17|               10|         3157|\n",
      "|           18|                9|         1257|\n",
      "|           19|               14|        10482|\n",
      "|           20|               13|         3779|\n",
      "|           21|               15|          701|\n",
      "+-------------+-----------------+-------------+\n",
      "\n"
     ]
    }
   ],
   "source": [
    "import matplotlib.pyplot as plt\n",
    "%matplotlib inline\n",
    "\n",
    "print(' the busiest shopping hours for each department')\n",
    "\n",
    "prequery = spark.sql('SELECT department_id, order_hour_of_day, COUNT(*) AS nb_apparition ' # prequery\n",
    "          'FROM orders AS o, order_prod AS op, products AS p '\n",
    "          'WHERE op.order_id = o.order_id AND op.product_id = p.product_id '\n",
    "          'GROUP BY department_id, order_hour_of_day '\n",
    "          'ORDER BY CAST (department_id as int), CAST(order_hour_of_day as int)')\n",
    "\n",
    "list_prequery = [int(row.department_id) for row in prequery.collect()]\n",
    "for i in range(0, len(list_prequery), 24):\n",
    "    data = prequery.filter(prequery.department_id == list_prequery[i])\n",
    "    x = [row.order_hour_of_day for row in data.collect()]\n",
    "    y = [row.nb_apparition for row in data.collect()]\n",
    "    plt.bar(x, y)\n",
    "    plt.xlabel(\"Heure de la journée\")\n",
    "    plt.ylabel(\"nb order\")\n",
    "    plt.title(\"time series for the department\" + str(list_prequery[i]))\n",
    "    plt.show()\n",
    "    \n",
    "spark.sql('WITH req AS (SELECT department_id, order_hour_of_day, COUNT(*) AS nb_apparition ' # prequery\n",
    "          'FROM orders AS o, order_prod AS op, products AS p '\n",
    "          'WHERE op.order_id = o.order_id AND op.product_id = p.product_id '\n",
    "          'GROUP BY department_id, order_hour_of_day) '\n",
    "          'SELECT req.department_id, req.order_hour_of_day, req.nb_apparition '#query\n",
    "          'FROM ( '#subquery to find max_value\n",
    "          'SELECT department_id as dep_id, MAX(req.nb_apparition) as max_apparition '\n",
    "          'FROM req '\n",
    "          'GROUP BY dep_id '\n",
    "          ') AS max_req, req '\n",
    "          'WHERE req.nb_apparition = max_req.max_apparition AND req.department_id = max_req.dep_id ' #join to choose the good result\n",
    "          'ORDER BY CAST(req.department_id as int) ASC' #cast because data is string, and display in ASC\n",
    "         ).show(30, truncate=80)\n"
   ]
  },
  {
   "cell_type": "code",
   "execution_count": 14,
   "metadata": {},
   "outputs": [
    {
     "name": "stdout",
     "output_type": "stream",
     "text": [
      "+--------+-----------+\n",
      "|order_id|basket_size|\n",
      "+--------+-----------+\n",
      "| 1934437|          1|\n",
      "|  289400|          1|\n",
      "|  112829|          1|\n",
      "|  731665|          1|\n",
      "|  461537|          1|\n",
      "|  538305|          1|\n",
      "|  341718|          1|\n",
      "|  872311|          1|\n",
      "|  873870|          1|\n",
      "|  925063|          1|\n",
      "|  991192|          1|\n",
      "| 1155593|          1|\n",
      "| 1570956|          1|\n",
      "| 1748051|          1|\n",
      "|  730295|          1|\n",
      "| 2055536|          1|\n",
      "| 2212452|          1|\n",
      "| 2231717|          1|\n",
      "| 2168628|          1|\n",
      "| 2593602|          1|\n",
      "| 2705330|          1|\n",
      "| 2752078|          1|\n",
      "| 2988975|          1|\n",
      "| 3151370|          1|\n",
      "| 3211701|          1|\n",
      "| 3256306|          1|\n",
      "| 3260239|          1|\n",
      "| 3302098|          1|\n",
      "| 3341892|          1|\n",
      "| 3349508|          1|\n",
      "+--------+-----------+\n",
      "only showing top 30 rows\n",
      "\n"
     ]
    }
   ],
   "source": [
    "query_basket_size = spark.sql('SELECT order_id, COUNT(order_id) AS basket_size '\n",
    "          'FROM order_prod '\n",
    "          'GROUP BY order_id '\n",
    "          'ORDER BY cast(basket_size as int) '\n",
    "         )\n",
    "query_basket_size.show(30, truncate=80)"
   ]
  },
  {
   "cell_type": "markdown",
   "metadata": {},
   "source": [
    "### 3.2 Run MBA for the training set (10 points)\n",
    "\n",
    "Using the orders from the ``order_products__train.csv``, create a data frame where each row contain just one column, the transaction, with the list of purchased products. For this task, you do not have to query for the product names to run the MBA algorithm. You can assume that the product name is its id. This can accelerate the algorithm since the product names can be quite big.\n",
    "\n",
    "You must report the time spent to perform this task."
   ]
  },
  {
   "cell_type": "code",
   "execution_count": 15,
   "metadata": {},
   "outputs": [
    {
     "name": "stdout",
     "output_type": "stream",
     "text": [
      "+--------------------+\n",
      "|         TRANSACTION|\n",
      "+--------------------+\n",
      "|[13176, 30827, 14...|\n",
      "|[17203, 44008, 48...|\n",
      "|             [29270]|\n",
      "|             [45190]|\n",
      "|[37524, 33731, 43...|\n",
      "|[22451, 46823, 47...|\n",
      "|[25783, 26165, 45...|\n",
      "|[4472, 44329, 271...|\n",
      "|[13176, 8174, 407...|\n",
      "|[27292, 7905, 219...|\n",
      "|[23029, 38558, 34...|\n",
      "|[41390, 42752, 14...|\n",
      "|[13176, 3265, 983...|\n",
      "|[43352, 8859, 196...|\n",
      "|[24852, 47766, 27...|\n",
      "|[34791, 42049, 17...|\n",
      "|[6347, 16262, 220...|\n",
      "|[25567, 20708, 38...|\n",
      "|[24852, 41005, 46...|\n",
      "|[43789, 38266, 40...|\n",
      "|[46145, 3040, 188...|\n",
      "|[36698, 44632, 21...|\n",
      "|[15528, 18598, 14...|\n",
      "|[43352, 3798, 205...|\n",
      "|[3283, 9881, 2668...|\n",
      "|[44632, 36772, 48...|\n",
      "|[24852, 21117, 12...|\n",
      "|[35951, 32018, 38...|\n",
      "|[26209, 10836, 29...|\n",
      "|             [14032]|\n",
      "+--------------------+\n",
      "only showing top 30 rows\n",
      "\n"
     ]
    }
   ],
   "source": [
    "\"\"\"\n",
    "TODO: create a query to create and sctruct the transactions\n",
    "\"\"\"\n",
    "#https://spark.apache.org/docs/latest/api/sql/index.html#collect_list\n",
    "query = spark.sql('SELECT COLLECT_LIST(op.product_id) as TRANSACTION '\n",
    "                 'FROM order_prod AS op '\n",
    "                 'GROUP BY op.order_id')\n",
    "query.show(30)"
   ]
  },
  {
   "cell_type": "code",
   "execution_count": 64,
   "metadata": {},
   "outputs": [
    {
     "name": "stdout",
     "output_type": "stream",
     "text": [
      "map_to_pattern..\n",
      "+--------------------------------------------------------------------------------+-----------+\n",
      "|                                                                        patterns|occurrences|\n",
      "+--------------------------------------------------------------------------------+-----------+\n",
      "|                       ([13176, 30827, 14966, 21137, 46129, 3798, 33081, 7862],)|          1|\n",
      "|([17203, 44008, 48823, 48205, 41671, 12986, 39758, 27344, 45061, 31215, 17758...|          1|\n",
      "|                                                                      ([29270],)|          1|\n",
      "|                                                                      ([45190],)|          1|\n",
      "|              ([37524, 33731, 43789, 38772, 39408, 43129, 14669, 48745, 24852],)|          1|\n",
      "|([22451, 46823, 47059, 23075, 37646, 12341, 21903, 13176, 43789, 20114, 23165...|          1|\n",
      "|([25783, 26165, 45255, 29363, 17931, 27945, 48886, 13974, 22855, 10743, 28157...|          1|\n",
      "|([4472, 44329, 2716, 1577, 17979, 40408, 546, 40396, 8518, 13176, 43255, 2179...|          1|\n",
      "|                                                  ([13176, 8174, 40723, 33055],)|          1|\n",
      "|                                    ([27292, 7905, 21903, 26518, 33114, 35213],)|          1|\n",
      "|([23029, 38558, 34668, 15576, 2326, 4920, 42356, 17284, 21903, 13176, 13877, ...|          1|\n",
      "|                                   ([41390, 42752, 14104, 35660, 42427, 17889],)|          1|\n",
      "|                         ([13176, 3265, 9839, 30827, 8803, 47775, 43136, 8953],)|          1|\n",
      "|                                     ([43352, 8859, 19691, 26348, 6184, 22362],)|          1|\n",
      "|([24852, 47766, 27730, 40604, 11512, 29388, 31461, 16185, 21903, 18594, 47059...|          1|\n",
      "|                                           ([34791, 42049, 17341, 49235, 2618],)|          1|\n",
      "|                                           ([6347, 16262, 22034, 25659, 39024],)|          1|\n",
      "|                                           ([25567, 20708, 38200, 5321, 26698],)|          1|\n",
      "|([24852, 41005, 46393, 23417, 14126, 34969, 17794, 30720, 38656, 46969, 28071...|          1|\n",
      "|                      ([43789, 38266, 40708, 5578, 24964, 18902, 21616, 42585],)|          1|\n",
      "+--------------------------------------------------------------------------------+-----------+\n",
      "only showing top 20 rows\n",
      "\n",
      "CPU times: user 14.8 ms, sys: 3 ms, total: 17.8 ms\n",
      "Wall time: 118 ms\n"
     ]
    }
   ],
   "source": [
    "%%time\n",
    "\n",
    "def map_to_patterns2(row):\n",
    "    \"\"\"\n",
    "    TODO\n",
    "    \"\"\"\n",
    "    products = row\n",
    "    patterns = []\n",
    "    max = len(products)+1 if len(products) <= 3 else 3\n",
    "    for lenght in range(1, max):\n",
    "        patterns.extend(list(combinations(products, lenght)))\n",
    "    # Ici on assume que les produits apparaissent 1 seule fois dans une transaction (comme dans l'énnoncé)\n",
    "    for i in range(0, len(patterns)):\n",
    "        yield (patterns[i], 1)\n",
    "\n",
    "transac = query.rdd\n",
    "print(\"map_to_pattern..\")\n",
    "transac = transac.flatMap(map_to_patterns2)\n",
    "# print(transac.take(5))\n",
    "transac.map(format_tuples).toDF(['patterns', 'occurrences']).show(20, truncate=80)"
   ]
  },
  {
   "cell_type": "code",
   "execution_count": 18,
   "metadata": {},
   "outputs": [
    {
     "name": "stdout",
     "output_type": "stream",
     "text": [
      "map_to_pattern..\n",
      "reduce_patterns..\n",
      "map_to_subpatterns..\n",
      "reduce..\n",
      "map_to_assoc_rules..\n"
     ]
    },
    {
     "ename": "AttributeError",
     "evalue": "'PipelinedRDD' object has no attribute 'show'",
     "output_type": "error",
     "traceback": [
      "\u001b[0;31m---------------------------------------------------------------------------\u001b[0m",
      "\u001b[0;31mAttributeError\u001b[0m                            Traceback (most recent call last)",
      "\u001b[0;32m<timed exec>\u001b[0m in \u001b[0;36m<module>\u001b[0;34m\u001b[0m\n",
      "\u001b[0;31mAttributeError\u001b[0m: 'PipelinedRDD' object has no attribute 'show'"
     ]
    }
   ],
   "source": [
    "%%time\n",
    "\"\"\"\n",
    "TODO: run the MBA algorithm and show the first 5 association rules\n",
    "\"\"\"\n",
    "\n",
    "print(\"reduce_patterns..\")\n",
    "transac = transac.reduceByKey(reduce_patterns)\n",
    "print(\"map_to_subpatterns..\")\n",
    "transac = transac.flatMap(map_to_subpatterns)\n",
    "print(\"reduce..\")\n",
    "transac = transac.reduceByKey(reduce)\n",
    "transac = transac.mapValues(unique2tuple)\n",
    "print(\"map_to_assoc_rules..\")\n",
    "transac = transac.flatMap(map_to_assoc_rules)\n",
    "\n",
    "transac.show(30)\n"
   ]
  },
  {
   "cell_type": "markdown",
   "metadata": {},
   "source": [
    "## 3.3 Run MBA for your custom dataset (25 points)\n",
    "\n",
    "As you probably noticed, even for a not so large data set (the training file has only 131209 orders), the MBA algorithm is computationally expensive. For that reason, this time, we will repeat the process, but now using the Google Cloud Platform (GCP) to create a large computer cluster. All the instructions for creating a computing cluster with spark and how to submit a job will be explained in both sessions of the laboratory. In any case, you should read the instructions given in the ``instruction_gcp.pdf``.\n",
    "\n",
    "This time, we will work with the ``order_products__prior.csv`` file, which contains more than 3M orders.\n",
    "\n",
    "**EXPECTED OUTPUT**\n",
    "\n",
    "After you ran the MBA for the larger collection of orders, randomly select 10 products purchased in ``order_products__prior`` and print the association rules associated to those products when the product is alone in the basket. **This time,  the products' name should be printed, not its ID. You can still perform the MBA using the IDs, but this last print must show the names. **  \n",
    "       \n",
    "Report the execution time."
   ]
  },
  {
   "cell_type": "code",
   "execution_count": null,
   "metadata": {},
   "outputs": [],
   "source": [
    "\"\"\"\n",
    "TODO: create a query to create and sctruct the transactions from the order_products__prior.csv file\n",
    "\"\"\""
   ]
  },
  {
   "cell_type": "code",
   "execution_count": null,
   "metadata": {},
   "outputs": [],
   "source": [
    "%%time\n",
    "\"\"\"\n",
    "TODO: run the MBA algorithm and print the requested output\n",
    "\"\"\""
   ]
  },
  {
   "cell_type": "code",
   "execution_count": null,
   "metadata": {},
   "outputs": [],
   "source": []
  }
 ],
 "metadata": {
  "kernelspec": {
   "display_name": ".venv",
   "language": "python",
   "name": ".venv"
  },
  "language_info": {
   "codemirror_mode": {
    "name": "ipython",
    "version": 3
   },
   "file_extension": ".py",
   "mimetype": "text/x-python",
   "name": "python",
   "nbconvert_exporter": "python",
   "pygments_lexer": "ipython3",
   "version": "3.6.7"
  }
 },
 "nbformat": 4,
 "nbformat_minor": 2
}
